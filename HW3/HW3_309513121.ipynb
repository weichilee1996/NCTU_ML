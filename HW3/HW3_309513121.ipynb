{
 "cells": [
  {
   "cell_type": "markdown",
   "metadata": {},
   "source": [
    "# Prob 1"
   ]
  },
  {
   "cell_type": "code",
   "execution_count": 1,
   "metadata": {},
   "outputs": [],
   "source": [
    "import numpy as np\n",
    "import matplotlib.pyplot as plt\n",
    "import pandas as pd\n",
    "import math"
   ]
  },
  {
   "cell_type": "code",
   "execution_count": 2,
   "metadata": {},
   "outputs": [],
   "source": [
    "x = []\n",
    "t = []\n",
    "DataSet = pd.read_csv('./dataset/gp_t.csv',header=None,low_memory=False)\n",
    "DataSet1 = pd.read_csv('./dataset/gp_x.csv',header=None,low_memory=False)\n",
    "for i in range(0,100):\n",
    "    x.append(DataSet1[0][i])\n",
    "x = np.array(x)\n",
    "for i in range(0,100):\n",
    "    t.append(DataSet[0][i])\n",
    "t = np.array(t)"
   ]
  },
  {
   "cell_type": "code",
   "execution_count": 3,
   "metadata": {},
   "outputs": [],
   "source": [
    "N = 100\n",
    "N_train = 50\n",
    "N_test = 50\n",
    "beta_inv = 1\n",
    "\n",
    "train_t,train_x = np.zeros([N_train,1]),np.zeros([N_train,1])\n",
    "test_t,test_x= np.zeros([N_test,1]),np.zeros([N_train,1])\n",
    "\n",
    "train_t = t[0:N_train]\n",
    "train_x = x[0:N_train]\n",
    "test_t = t[N_test:N]\n",
    "test_x = x[N_test:N]\n",
    "\n",
    "theta = [[0, 0, 0, 1],[1, 16, 0, 0],[1, 16, 0, 4],[1, 64, 32, 0]]"
   ]
  },
  {
   "cell_type": "code",
   "execution_count": 4,
   "metadata": {},
   "outputs": [],
   "source": [
    "def KN(theta_list, xn, xm):    \n",
    "    return theta_list[0] * (math.exp((-theta_list[1] / 2 * ((xn - xm) ** 2)))) + theta_list[2] + theta_list[3] * xn * xm"
   ]
  },
  {
   "cell_type": "code",
   "execution_count": 5,
   "metadata": {},
   "outputs": [],
   "source": [
    "def gaussian(theta_list, xn, cov_inv):\n",
    "    k = np.zeros(N_train)\n",
    "    for i in range(N_train):\n",
    "        k[i] = KN(theta_list, xn, train_x[i])\n",
    "        \n",
    "    mean = np.dot(k, np.dot(cov_inv, train_t.reshape(N_train, 1)) )\n",
    "    var = KN(theta_list, xn, xn) + beta_inv - np.dot(k, np.dot(cov_inv, k.reshape(N_train, 1))) \n",
    "\n",
    "    \n",
    "    return mean, var"
   ]
  },
  {
   "cell_type": "code",
   "execution_count": 6,
   "metadata": {},
   "outputs": [],
   "source": [
    "def train_theta(theta,t):\n",
    "    x = np.arange(0, 1.001, 0.001)\n",
    "    y = np.empty(0)\n",
    "    std = np.empty(0)\n",
    "    cov = np.zeros([N_train, N_train])   \n",
    "    for i in range(N_train):\n",
    "        for j in range(N_train):\n",
    "            cov[i][j] = KN(t, train_x[i], train_x[j])\n",
    "            if (i == j):\n",
    "                cov[i][j] += beta_inv\n",
    "    \n",
    "    cov_inv = np.linalg.inv(cov)\n",
    "    \n",
    "    for xn in x:\n",
    "        mean, var = gaussian(t, xn, cov_inv)\n",
    "        std = np.append(std, math.sqrt(var))\n",
    "        y = np.append(y, mean)\n",
    "        \n",
    "        \n",
    "    plt.plot(x, y, color = 'red')    \n",
    "    plt.fill_between(x, y - std, y + std, color = 'pink')\n",
    "    plt.scatter(train_x, train_t, color = 'blue', marker = '.')\n",
    "    plt.title(\"theta = {}\".format(t))\n",
    "    plt.show()\n",
    "    rms_err = 0\n",
    "\n",
    "    for i in range(N_train):\n",
    "        mean, var = gaussian(t, train_x[i], cov_inv)\n",
    "        rms_err += (mean - train_t[i]) ** 2\n",
    "        \n",
    "    rms_err = math.sqrt(rms_err/N_train)\n",
    "    print ('Train data Error : {}'.format(rms_err))\n",
    "    rms_err = 0\n",
    "    \n",
    "    \n",
    "    for i in range(100-N_train):\n",
    "        mean, var = gaussian(t, test_x[i], cov_inv)\n",
    "        rms_err += (mean - test_t[i]) ** 2\n",
    "    rms_err = math.sqrt(rms_err/N_train)\n",
    "    print ('Test data Error  : {}'.format(rms_err)) \n",
    "    \n",
    "    print('Blue: Original dataset , Red: mean')"
   ]
  },
  {
   "cell_type": "code",
   "execution_count": 7,
   "metadata": {},
   "outputs": [
    {
     "data": {
      "image/png": "[encoded data removed]",
      "text/plain": [
       "<Figure size 432x288 with 1 Axes>"
      ]
     },
     "metadata": {
      "needs_background": "light"
     },
     "output_type": "display_data"
    }
   ],
   "source": [
    "plt.plot(train_x[0:N_train], train_t[0:N_train], 'bo', label = 'Original dataset',markersize=5)\n",
    "\n",
    "plt.legend(loc='best')\n",
    "plt.xlabel('x')\n",
    "plt.ylabel('t')\n",
    "#plt.title(r'$\\theta$ = (1,16,0,0).')\n",
    "plt.show() "
   ]
  },
  {
   "cell_type": "code",
   "execution_count": 8,
   "metadata": {},
   "outputs": [
    {
     "data": {
      "image/png": "[encoded data removed]",
      "text/plain": [
       "<Figure size 432x288 with 1 Axes>"
      ]
     },
     "metadata": {
      "needs_background": "light"
     },
     "output_type": "display_data"
    },
    {
     "name": "stdout",
     "output_type": "stream",
     "text": [
      "Train data Error : 3.1292014298222433\n",
      "Test data Error  : 3.3443986601861146\n",
      "Blue: Original dataset , Red: mean\n"
     ]
    },
    {
     "data": {
      "image/png": "[encoded data removed]",
      "text/plain": [
       "<Figure size 432x288 with 1 Axes>"
      ]
     },
     "metadata": {
      "needs_background": "light"
     },
     "output_type": "display_data"
    },
    {
     "name": "stdout",
     "output_type": "stream",
     "text": [
      "Train data Error : 2.4239279278312194\n",
      "Test data Error  : 2.6680517502524466\n",
      "Blue: Original dataset , Red: mean\n"
     ]
    },
    {
     "data": {
      "image/png": "[encoded data removed]",
      "text/plain": [
       "<Figure size 432x288 with 1 Axes>"
      ]
     },
     "metadata": {
      "needs_background": "light"
     },
     "output_type": "display_data"
    },
    {
     "name": "stdout",
     "output_type": "stream",
     "text": [
      "Train data Error : 2.4105764871252062\n",
      "Test data Error  : 2.6569980001669165\n",
      "Blue: Original dataset , Red: mean\n"
     ]
    },
    {
     "data": {
      "image/png": "[encoded data removed]",
      "text/plain": [
       "<Figure size 432x288 with 1 Axes>"
      ]
     },
     "metadata": {
      "needs_background": "light"
     },
     "output_type": "display_data"
    },
    {
     "name": "stdout",
     "output_type": "stream",
     "text": [
      "Train data Error : 1.0428861621832175\n",
      "Test data Error  : 1.1627590936118612\n",
      "Blue: Original dataset , Red: mean\n"
     ]
    },
    {
     "data": {
      "image/png": "[encoded data removed]",
      "text/plain": [
       "<Figure size 432x288 with 1 Axes>"
      ]
     },
     "metadata": {
      "needs_background": "light"
     },
     "output_type": "display_data"
    },
    {
     "name": "stdout",
     "output_type": "stream",
     "text": [
      "Train data Error : 0.6582610230813177\n",
      "Test data Error  : 1.124881177568828\n",
      "Blue: Original dataset , Red: mean\n"
     ]
    }
   ],
   "source": [
    "for t in theta:\n",
    "    train_theta(theta,t)\n",
    "    \n",
    "    \n",
    "t1 = [[570,150,24,8.6]]\n",
    "\n",
    "\n",
    "for t in t1:\n",
    "    train_theta(theta = t1 ,t = t)"
   ]
  },
  {
   "cell_type": "markdown",
   "metadata": {},
   "source": [
    "# Prob 2"
   ]
  },
  {
   "cell_type": "code",
   "execution_count": 9,
   "metadata": {},
   "outputs": [],
   "source": [
    "import numpy as np\n",
    "import matplotlib.pyplot as plt\n",
    "import math\n",
    "import csv\n",
    "import pandas as pd\n",
    "from sklearn import svm\n",
    "from collections import Counter"
   ]
  },
  {
   "cell_type": "code",
   "execution_count": 10,
   "metadata": {},
   "outputs": [],
   "source": [
    "x = []\n",
    "with open('./dataset/x_train.csv', newline='') as csvfile:\n",
    "    rows = csv.reader(csvfile)\n",
    "# 以迴圈輸出每一列\n",
    "    for row in rows:\n",
    "        tmp = []\n",
    "        for r in row:\n",
    "            tmp.append(float(r)/255)\n",
    "        x.append(tmp)\n",
    "#print((x[0]))\n",
    "x = np.mat(x)"
   ]
  },
  {
   "cell_type": "code",
   "execution_count": 11,
   "metadata": {},
   "outputs": [],
   "source": [
    "t = []\n",
    "with open('./dataset/t_train.csv', newline='') as csvfile:\n",
    "    rows = csv.reader(csvfile)\n",
    "# 以迴圈輸出每一列\n",
    "    for row in rows:\n",
    "        #print(row)\n",
    "        for r in row:\n",
    "            #print(r)\n",
    "            t.append(int(r))\n",
    "#print((x[0]))\n",
    "t = np.array(t)\n",
    "#print(t)"
   ]
  },
  {
   "cell_type": "code",
   "execution_count": 12,
   "metadata": {},
   "outputs": [],
   "source": [
    "clf = svm.SVC(kernel = 'linear')"
   ]
  },
  {
   "cell_type": "code",
   "execution_count": 13,
   "metadata": {},
   "outputs": [],
   "source": [
    "def pca(dataMat, topNfeat=4096):\n",
    "    meanVals = np.mean(dataMat, axis=0)\n",
    "    meanRemoved = dataMat - meanVals\n",
    "    covMat = np.cov(meanRemoved, rowvar=0)\n",
    "    eigVals, eigVects = np.linalg.eig(np.mat(covMat))\n",
    "    eigValInd = np.argsort(eigVals)\n",
    "    eigValInd = eigValInd[: -(topNfeat+1): -1]\n",
    "    redEigVects = eigVects[:, eigValInd]\n",
    "    lowDDataMat = meanRemoved * redEigVects\n",
    "    reconMat = (lowDDataMat * redEigVects.T) + meanVals\n",
    "    return lowDDataMat, reconMat"
   ]
  },
  {
   "cell_type": "code",
   "execution_count": 14,
   "metadata": {},
   "outputs": [
    {
     "name": "stderr",
     "output_type": "stream",
     "text": [
      "/Users/weichilee/opt/anaconda3/envs/sklearn-env/lib/python3.7/site-packages/ipykernel_launcher.py:8: ComplexWarning: Casting complex values to real discards the imaginary part\n",
      "  \n",
      "/Users/weichilee/opt/anaconda3/envs/sklearn-env/lib/python3.7/site-packages/ipykernel_launcher.py:9: ComplexWarning: Casting complex values to real discards the imaginary part\n",
      "  if __name__ == '__main__':\n"
     ]
    }
   ],
   "source": [
    "a, b = pca(x,2)\n",
    "a = list(a)\n",
    "a = np.array(a)\n",
    "x_pca = []\n",
    "for i in a:\n",
    "    for j in i:\n",
    "        tmp = []\n",
    "        tmp.append(float(j[0]))\n",
    "        tmp.append(float(j[1]))\n",
    "        x_pca.append(tmp)\n",
    "#print((x_pca[0]))"
   ]
  },
  {
   "cell_type": "code",
   "execution_count": 15,
   "metadata": {},
   "outputs": [],
   "source": [
    "class_1_index = []\n",
    "class_2_index = []\n",
    "filter_x01 = []\n",
    "filter_t01 = []\n",
    "filter_x02 = []\n",
    "filter_t02 = []\n",
    "filter_x12 = []\n",
    "filter_t12 = []\n",
    "def binrary_filter(class_1,class_2):\n",
    "    class_1_index.clear()\n",
    "    class_2_index.clear()\n",
    "\n",
    "    for i in range(0,len(t)):\n",
    "        if t[i] == class_1:\n",
    "            class_1_index.append(i)\n",
    "        elif t[i] == class_2:\n",
    "            class_2_index.append(i)\n",
    "            \n",
    "    if class_1 == 0 and class_2 == 1:\n",
    "        for j in class_1_index:\n",
    "            filter_x01.append(x_pca[j])\n",
    "        for j in class_2_index:\n",
    "            filter_x01.append(x_pca[j])\n",
    "        for j in range(0,len(class_1_index)):\n",
    "            filter_t01.append(1)\n",
    "        for j in range(0,len(class_2_index)):\n",
    "            filter_t01.append(-1)\n",
    "    elif class_1 == 0 and class_2 == 2:\n",
    "        for j in class_1_index:\n",
    "            filter_x02.append(x_pca[j])\n",
    "        for j in class_2_index:\n",
    "            filter_x02.append(x_pca[j])\n",
    "        for j in range(0,len(class_1_index)):\n",
    "            filter_t02.append(1)\n",
    "        for j in range(0,len(class_2_index)):\n",
    "            filter_t02.append(-1)\n",
    "    elif class_1 == 1 and class_2 == 2:\n",
    "        for j in class_1_index:\n",
    "            filter_x12.append(x_pca[j])\n",
    "        for j in class_2_index:\n",
    "            filter_x12.append(x_pca[j])\n",
    "        for j in range(0,len(class_1_index)):\n",
    "            filter_t12.append(1)\n",
    "        for j in range(0,len(class_2_index)):\n",
    "            filter_t12.append(-1)"
   ]
  },
  {
   "cell_type": "code",
   "execution_count": 16,
   "metadata": {},
   "outputs": [],
   "source": [
    "def svm_get_weight(class_1,class_2):\n",
    "    if class_1 == 0 and class_2 == 1: \n",
    "        clf.fit(filter_x01,filter_t01) \n",
    "        v = clf.support_vectors_\n",
    "        a = clf.dual_coef_\n",
    "        w = np.dot(a,v)\n",
    "        b = clf.intercept_\n",
    "    elif class_1 == 0 and class_2 == 2: \n",
    "        clf.fit(filter_x02,filter_t02) \n",
    "        v = clf.support_vectors_\n",
    "        a = clf.dual_coef_\n",
    "        w = np.dot(a,v)\n",
    "        b = clf.intercept_\n",
    "    elif class_1 == 1 and class_2 == 2: \n",
    "        clf.fit(filter_x12,filter_t12) \n",
    "        v = clf.support_vectors_\n",
    "        a = clf.dual_coef_\n",
    "        w = np.dot(a,v)\n",
    "        b = clf.intercept_\n",
    "\n",
    "    return  [ w , b , v]\n",
    "    "
   ]
  },
  {
   "cell_type": "code",
   "execution_count": 17,
   "metadata": {},
   "outputs": [],
   "source": [
    "#Get range of x_pca\n",
    "xpca_min1,xpca_min2 = np.amin(x_pca,axis = 0)\n",
    "xpca_max1,xpca_max2 = np.amax(x_pca,axis = 0)\n",
    "x_range1 = np.arange(xpca_min1,xpca_max1,0.02)\n",
    "x_range2 = np.arange(xpca_min2,xpca_max2,0.02)\n",
    "x_range1 = np.reshape(x_range1,(1,len(x_range1)))\n",
    "x_range2 = np.reshape(x_range2,(len(x_range2),1))"
   ]
  },
  {
   "cell_type": "code",
   "execution_count": 18,
   "metadata": {},
   "outputs": [],
   "source": [
    "#class 0 vs class 1\n",
    "binrary_filter(0,1)\n",
    "#w01 , b01 , v01 = [ svm_get_weight(0,1) ]\n",
    "#print(svm_get_weight(0,1))\n",
    "w01 = svm_get_weight(0,1)[0]\n",
    "b01 = svm_get_weight(0,1)[1]\n",
    "v_01 = svm_get_weight(0,1)[2]\n",
    "#print(len(filter_x01),len(b01))\n",
    "#y01 = np.dot(w01,filter_x01)+b01\n",
    "\n",
    "\n",
    "#class0 vs class2\n",
    "binrary_filter(0,2)\n",
    "#svm_get_weight(0,2)\n",
    "w02 = svm_get_weight(0,2)[0]\n",
    "b02 = svm_get_weight(0,2)[1]\n",
    "v_02 = svm_get_weight(0,2)[2]\n",
    "\n",
    "\n",
    "#class 1 vs class2\n",
    "binrary_filter(1,2)\n",
    "#svm_get_weight(1,2)\n",
    "w12 = svm_get_weight(1,2)[0]\n",
    "b12 = svm_get_weight(1,2)[1]\n",
    "v_12 = svm_get_weight(1,2)[2]\n",
    "\n",
    "sv = []\n",
    "for i in w01:\n",
    "    w_01 = i\n",
    "for i in b01:\n",
    "    b_01 = i\n",
    "\n",
    "for i in w02:\n",
    "    w_02 = i\n",
    "for i in b01:\n",
    "    b_02 = i\n",
    "    \n",
    "for i in w12:\n",
    "    w_12 = i\n",
    "for i in b12:\n",
    "    b_12 = i\n",
    "for i in v_01:\n",
    "    sv.append(i)\n",
    "for i in v_02:\n",
    "    sv.append(i)\n",
    "for i in v_12:\n",
    "    sv.append(i)\n",
    "#print(len(sv))"
   ]
  },
  {
   "cell_type": "code",
   "execution_count": 19,
   "metadata": {},
   "outputs": [],
   "source": [
    "y_01 = np.dot(w_01[0],x_range1)+np.dot(w_01[1],x_range2)+b_01\n",
    "y_02 = np.dot(w_02[0],x_range1)+np.dot(w_02[1],x_range2)+b_02\n",
    "y_12 = np.dot(w_12[0],x_range1)+np.dot(w_12[1],x_range2)+b_12\n",
    "#print(len(x_range1[0]))\n",
    "#print(len(x_range2[0]))\n",
    "#print(y_01.shape)\n",
    "y01_class = []\n",
    "y02_class = []\n",
    "y12_class = []\n",
    "y_class = []\n",
    "for i in (y_01):\n",
    "    #print(i)\n",
    "    for j in i:\n",
    "        if j > 0:\n",
    "            y01_class.append(0)\n",
    "        elif j<0:\n",
    "            y01_class.append(1)\n",
    "\n",
    "for i in (y_02):\n",
    "    #print(i)\n",
    "    for j in i:\n",
    "        if j > 0:\n",
    "            y02_class.append(0)\n",
    "        elif j<0:\n",
    "            y02_class.append(2)\n",
    "            \n",
    "            \n",
    "for i in (y_12):\n",
    "    #print(i)\n",
    "    for j in i:\n",
    "        if j > 0:\n",
    "            y12_class.append(1)\n",
    "        elif j<0:\n",
    "            y12_class.append(2)\n",
    "            \n",
    "#print(len(y02_class))\n",
    "\n",
    "for i in range(0,len(y01_class)):\n",
    "    tmp = []\n",
    "    tmp.append(y01_class[i])\n",
    "    tmp.append(y02_class[i])\n",
    "    tmp.append(y12_class[i])\n",
    "    top = Counter(tmp).most_common(1)[0][0]\n",
    "    y_class.append(top)\n",
    "#print(len(y_class))\n",
    "y_class = np.array(y_class)\n",
    "y_class = y_class.reshape((len(x_range2),len(x_range1[0])))\n",
    "#print(y_class.shape)"
   ]
  },
  {
   "cell_type": "code",
   "execution_count": 20,
   "metadata": {},
   "outputs": [],
   "source": [
    "def make_meshgrid():\n",
    "    space = 0\n",
    "    h = 0.02\n",
    "    xx, yy = np.meshgrid(np.arange(xpca_min1-space, xpca_max1+space, h),np.arange(xpca_min2-space, xpca_max2+space, h))\n",
    "    return xx, yy\n",
    "    \n",
    "def plot_img(xx,yy):\n",
    "    for i in range(0,len(sv)):\n",
    "        plt.scatter(sv[i][0], sv[i][1], facecolors='none', edgecolors='k', linewidths=2)\n",
    "    plt.plot(0, 0, '.',color='red', label='class0')\n",
    "    plt.plot(0, 0, '.',color='blue', label='class1')\n",
    "    plt.plot(0, 0, '.',color='green', label='class2')\n",
    "    plt.plot(0, 0,'.',color='black', label='support vectors')\n",
    "    \n",
    "    plt.legend()\n",
    "        \n",
    "    plt.contourf(xx, yy, y_class, alpha=0.3, cmap=plt.cm.coolwarm)"
   ]
  },
  {
   "cell_type": "code",
   "execution_count": 21,
   "metadata": {},
   "outputs": [
    {
     "data": {
      "image/png": "[encoded data removed]",
      "text/plain": [
       "<Figure size 432x288 with 1 Axes>"
      ]
     },
     "metadata": {
      "needs_background": "light"
     },
     "output_type": "display_data"
    }
   ],
   "source": [
    "for i in range(len(x_pca)):\n",
    "    if t[i] == 0:\n",
    "        plt.scatter(x_pca[i][0], x_pca[i][1],c ='purple')\n",
    "    elif t[i] == 1:\n",
    "        plt.scatter(x_pca[i][0], x_pca[i][1],c ='blue')\n",
    "    elif t[i] ==2:\n",
    "        plt.scatter(x_pca[i][0], x_pca[i][1],c ='red')\n",
    "#plt.scatter(c = 'green',label = 'class2')\n",
    "xx ,yy = make_meshgrid()\n",
    "plot_img(xx = xx,yy = yy)"
   ]
  },
  {
   "cell_type": "code",
   "execution_count": 22,
   "metadata": {},
   "outputs": [],
   "source": [
    "#Polynomial kernel of degree 2\n",
    "clf_p = svm.SVC(kernel = 'poly',degree = 2)"
   ]
  },
  {
   "cell_type": "code",
   "execution_count": 23,
   "metadata": {},
   "outputs": [],
   "source": [
    "def poly_phi(x):\n",
    "    if len(x.shape) == 1:\n",
    "        return np.vstack((x[0]**2, np.sqrt(2)*x[0]*x[1], x[1]**2)).T \n",
    "    else:\n",
    "        return np.vstack((x[:, 0]**2, np.sqrt(2)*x[:, 0]*x[:, 1], x[:, 1]**2)).T \n"
   ]
  },
  {
   "cell_type": "code",
   "execution_count": 24,
   "metadata": {},
   "outputs": [],
   "source": [
    "def svm_get_weight_p(class_1,class_2):\n",
    "    if class_1 == 0 and class_2 == 1: \n",
    "        clf_p.fit(filter_x01,filter_t01) \n",
    "        v = clf_p.support_vectors_\n",
    "        a = clf_p.dual_coef_\n",
    "        b = clf_p.intercept_\n",
    "        #a_square = np.square(a)\n",
    "        p_v = poly_phi(v)\n",
    "       # p_v2 = np.dot(p_v,p_v.T)\n",
    "        w = np.dot(a,p_v)\n",
    "    elif class_1 == 0 and class_2 == 2: \n",
    "        clf_p.fit(filter_x02,filter_t02) \n",
    "        v = clf_p.support_vectors_\n",
    "        a = clf_p.dual_coef_\n",
    "        b = clf_p.intercept_\n",
    "        #a_square = np.square(a)\n",
    "        p_v = poly_phi(v)\n",
    "        #p_v2 = np.dot(p_v,p_v.T)\n",
    "        w = np.dot(a,p_v)\n",
    "    elif class_1 == 1 and class_2 == 2: \n",
    "        clf_p.fit(filter_x12,filter_t12) \n",
    "        v = clf_p.support_vectors_\n",
    "        a = clf_p.dual_coef_\n",
    "        b = clf_p.intercept_\n",
    "        #a_square = np.square(a)\n",
    "        p_v = poly_phi(v)\n",
    "        #p_v2 = np.dot(p_v,p_v.T)\n",
    "        w = np.dot(a,p_v)\n",
    "    #print((w[0]))\n",
    "    return  [ w , b , v]\n",
    "    "
   ]
  },
  {
   "cell_type": "code",
   "execution_count": 25,
   "metadata": {},
   "outputs": [],
   "source": [
    "#class 0 vs class 1\n",
    "w01p = svm_get_weight_p(0,1)[0]\n",
    "b01p = svm_get_weight_p(0,1)[1]\n",
    "v_01p = svm_get_weight_p(0,1)[2]\n",
    "\n",
    "\n",
    "#class0 vs class2\n",
    "w02p = svm_get_weight_p(0,2)[0]\n",
    "b02p = svm_get_weight_p(0,2)[1]\n",
    "v_02p = svm_get_weight_p(0,2)[2]\n",
    "\n",
    "\n",
    "#class 1 vs class2\n",
    "w12p = svm_get_weight_p(1,2)[0]\n",
    "b12p = svm_get_weight_p(1,2)[1]\n",
    "v_12p = svm_get_weight_p(1,2)[2]\n",
    "\n",
    "sv_p = []\n",
    "\"\"\"w_01p = []\n",
    "w_02p = []\n",
    "w_12p = []\"\"\"\n",
    "for i in w01p:\n",
    "    w_01p = i\n",
    "for i in b01p:\n",
    "    b_01p = i\n",
    "\n",
    "for i in w02p:\n",
    "    w_02p = i\n",
    "    #w_02p = i\n",
    "for i in b01p:\n",
    "    b_02p = i\n",
    "    \n",
    "for i in w12p:\n",
    "    w_12p = i\n",
    "for i in b12p:\n",
    "    b_12p = i\n",
    "    \n",
    "    \n",
    "for i in v_01p:\n",
    "    sv_p.append(i)\n",
    "for i in v_02p:\n",
    "    sv_p.append(i)\n",
    "for i in v_12p:\n",
    "    sv_p.append(i)\n",
    "#print(len(sv_p))"
   ]
  },
  {
   "cell_type": "code",
   "execution_count": 26,
   "metadata": {},
   "outputs": [
    {
     "data": {
      "text/plain": [
       "'print(yp_class.shape)\\nprint(len(xx),len(yy[0]))'"
      ]
     },
     "execution_count": 26,
     "metadata": {},
     "output_type": "execute_result"
    }
   ],
   "source": [
    "xx ,yy = make_meshgrid()    \n",
    "#Y_temp = w[n+l][0,0]*(X1**2) + w[n+l][0,1]*math.sqrt(2)*X1*X2 + w[n+l][0,2]*(X2**2) + b[n+l]\n",
    "\n",
    "y_01p = w_01p[0]*(np.square(x_range1))+w_01p[2]*(np.square(x_range2))+(w_01p[1]*math.sqrt(2)*np.dot(x_range2,x_range1))+b_01p\n",
    "y_02p = w_02p[0]*(np.square(x_range1))+w_02p[2]*(np.square(x_range2))+(w_02p[1]*math.sqrt(2)*np.dot(x_range2,x_range1))+b_02p\n",
    "y_12p = w_12p[0]*(np.square(x_range1))+w_12p[2]*(np.square(x_range2))+(w_12p[1]*math.sqrt(2)*np.dot(x_range2,x_range1))+b_12p\n",
    "\n",
    "\n",
    "#print(len(y_01p))\n",
    "y01p_class = []\n",
    "y02p_class = []\n",
    "y12p_class = []\n",
    "yp_class = []\n",
    "for j in (y_01p.flatten()):\n",
    "    if j > 0:\n",
    "        y01p_class.append(0)\n",
    "    elif j<0:\n",
    "        y01p_class.append(1)\n",
    "\n",
    "for j in (y_02p.flatten()):\n",
    "    if j > 0:\n",
    "        y02p_class.append(0)\n",
    "    elif j<0:\n",
    "        y02p_class.append(2)\n",
    "                      \n",
    "for j in (y_12p.flatten()):\n",
    "    if j > 0:\n",
    "        y12p_class.append(1)\n",
    "    elif j<0:\n",
    "        y12p_class.append(2)\n",
    "\n",
    "#print(len(y01p_class) ,len(y02p_class),len(y12p_class))           \n",
    "            \n",
    "            \n",
    "for i in range(0,len(y01p_class)):\n",
    "    tmp = []\n",
    "    tmp.append(y01p_class[i])\n",
    "    tmp.append(y02p_class[i])\n",
    "    tmp.append(y12p_class[i])\n",
    "    top = Counter(tmp).most_common(1)[0][0]\n",
    "    #print(top)\n",
    "    yp_class.append(top)\n",
    "#print(len(y01p_class))\n",
    "yp_class = np.array(yp_class)\n",
    "\n",
    "yp_class = yp_class.reshape((len(xx),len(yy[0])))\n",
    "\"\"\"print(yp_class.shape)\n",
    "print(len(xx),len(yy[0]))\"\"\""
   ]
  },
  {
   "cell_type": "code",
   "execution_count": 27,
   "metadata": {},
   "outputs": [],
   "source": [
    "def plot_p_img(xx,yy):\n",
    "    for i in range(0,len(sv_p)):\n",
    "        plt.scatter(sv_p[i][0], sv_p[i][1], facecolors='none', edgecolors='k', linewidths=2)\n",
    "    plt.plot(0, 0, '.',color='red', label='class0')\n",
    "    plt.plot(0, 0, '.',color='blue', label='class1')\n",
    "    plt.plot(0, 0, '.',color='green', label='class2')\n",
    "    plt.plot(0, 0,'.',color='black', label='support vectors')\n",
    "    \n",
    "    plt.legend()\n",
    "        \n",
    "    plt.contourf(xx, yy, yp_class, alpha=0.2, cmap=plt.cm.coolwarm)"
   ]
  },
  {
   "cell_type": "code",
   "execution_count": 28,
   "metadata": {},
   "outputs": [
    {
     "data": {
      "image/png": "[encoded data removed]",
      "text/plain": [
       "<Figure size 432x288 with 1 Axes>"
      ]
     },
     "metadata": {
      "needs_background": "light"
     },
     "output_type": "display_data"
    }
   ],
   "source": [
    "for i in range(len(x_pca)):\n",
    "    if t[i] == 0:\n",
    "        plt.scatter(x_pca[i][0], x_pca[i][1],c ='red')\n",
    "    elif t[i] == 1:\n",
    "        plt.scatter(x_pca[i][0], x_pca[i][1],c ='blue')\n",
    "    elif t[i] ==2:\n",
    "        plt.scatter(x_pca[i][0], x_pca[i][1],c ='green')\n",
    "\n",
    "plot_p_img(xx = xx,yy = yy)"
   ]
  },
  {
   "cell_type": "markdown",
   "metadata": {},
   "source": [
    "# Prob 3"
   ]
  },
  {
   "cell_type": "code",
   "execution_count": 29,
   "metadata": {},
   "outputs": [],
   "source": [
    "import numpy as np\n",
    "import matplotlib.pyplot as plt\n",
    "import matplotlib.image as img\n",
    "import numpy.random as ran\n",
    "from scipy.stats import multivariate_normal as mvn\n",
    "import math\n",
    "from PIL import Image\n",
    "from copy import deepcopy"
   ]
  },
  {
   "cell_type": "code",
   "execution_count": 30,
   "metadata": {},
   "outputs": [
    {
     "ename": "NameError",
     "evalue": "name 'cv' is not defined",
     "output_type": "error",
     "traceback": [
      "\u001b[0;31m---------------------------------------------------------------------------\u001b[0m",
      "\u001b[0;31mNameError\u001b[0m                                 Traceback (most recent call last)",
      "\u001b[0;32m<ipython-input-30-967a72fdbe48>\u001b[0m in \u001b[0;36m<module>\u001b[0;34m\u001b[0m\n\u001b[0;32m----> 1\u001b[0;31m \u001b[0mimg1\u001b[0m \u001b[0;34m=\u001b[0m \u001b[0mcv\u001b[0m\u001b[0;34m.\u001b[0m\u001b[0mimread\u001b[0m\u001b[0;34m(\u001b[0m\u001b[0;34m\"./dataset/imghw3.jpg\"\u001b[0m\u001b[0;34m)\u001b[0m\u001b[0;34m\u001b[0m\u001b[0;34m\u001b[0m\u001b[0m\n\u001b[0m\u001b[1;32m      2\u001b[0m \u001b[0mimg1\u001b[0m \u001b[0;34m=\u001b[0m \u001b[0mcv\u001b[0m\u001b[0;34m.\u001b[0m\u001b[0mresize\u001b[0m\u001b[0;34m(\u001b[0m\u001b[0mimg1\u001b[0m\u001b[0;34m,\u001b[0m \u001b[0;34m(\u001b[0m\u001b[0;36m1000\u001b[0m\u001b[0;34m,\u001b[0m \u001b[0;36m1000\u001b[0m\u001b[0;34m)\u001b[0m\u001b[0;34m)\u001b[0m\u001b[0;34m\u001b[0m\u001b[0;34m\u001b[0m\u001b[0m\n\u001b[1;32m      3\u001b[0m \u001b[0;31m#print(img.shape)\u001b[0m\u001b[0;34m\u001b[0m\u001b[0;34m\u001b[0m\u001b[0;34m\u001b[0m\u001b[0m\n",
      "\u001b[0;31mNameError\u001b[0m: name 'cv' is not defined"
     ]
    }
   ],
   "source": [
    "img1 = cv.imread(\"./dataset/imghw3.jpg\")\n",
    "img1 = cv.resize(img1, (1000, 1000))\n",
    "#print(img.shape)"
   ]
  },
  {
   "cell_type": "code",
   "execution_count": null,
   "metadata": {},
   "outputs": [],
   "source": [
    "length = img1.shape[0] \n",
    "width = img1.shape[1]\n",
    "N = length * width \n",
    "N_RGB = 3\n",
    "K = [3, 5 , 7 ,10]\n",
    "zero_v = np.zeros([1,3])\n",
    "plot_x=np.linspace(1,100,100)"
   ]
  },
  {
   "cell_type": "code",
   "execution_count": null,
   "metadata": {},
   "outputs": [],
   "source": [
    "def dist(data, miu):\n",
    "    return np.linalg.norm(data - miu, axis = 1)"
   ]
  },
  {
   "cell_type": "code",
   "execution_count": null,
   "metadata": {},
   "outputs": [],
   "source": [
    "def set_training(i):\n",
    "    train_data = np.array(img1.reshape((-1,3)),float) \n",
    "    normalized_train_data = train_data/255.0 \n",
    "\n",
    "    miu = np.array(ran.randint(np.min(train_data)+10,np.max(train_data)-10,size=(K[i],N_RGB))/255) \n",
    "    miu_old = np.zeros(miu.shape) \n",
    "    threshold = sum(dist(miu, miu_old)) \n",
    "    D = np.mat(np.zeros([N,K[i]]))\n",
    "    R = np.zeros([N,K[i]]) \n",
    "    R = np.mat(R, dtype = int )\n",
    "    return [miu,miu_old,D,R,threshold]"
   ]
  },
  {
   "cell_type": "code",
   "execution_count": null,
   "metadata": {},
   "outputs": [],
   "source": [
    "def K_means(i,threshold,iteration = 0):\n",
    "    if K[i] == 20:        \n",
    "        while threshold >= 0.00000001:\n",
    "            for k in range(0,K[i]):\n",
    "                uuu = np.mat(miu[k,:]) \n",
    "                miu_k = np.tile(uuu,(N,1))\n",
    "                d = np.mat(dist(normalized_train_data, miu_k), float).T \n",
    "                D[:,k] = d  \n",
    "            arg = np.argmin(D, axis = 1) \n",
    "            arg = np.tile(arg,(1,K[i]))\n",
    "            for k in range(0,K[i]):\n",
    "                classk = np.mat(np.ones(N)*k).T\n",
    "                R[:,k]  = np.mat((arg[:,k] == classk),float) \n",
    "                       \n",
    "            miu_old = deepcopy(miu)\n",
    "            one = np.mat(np.ones(N)).T\n",
    "            for k in range(0,K[i]):\n",
    "                rnk_tol = R[:,k].T*one    \n",
    "                miu[k] = (R[:,k].T * normalized_train_data) / rnk_tol \n",
    "                if math.isnan(np.sum(miu[k])):\n",
    "                    miu[k] = zero_v\n",
    "            threshold = sum(dist(miu, miu_old))\n",
    "            iteration = iteration + 1\n",
    "        print(miu)\n",
    "    else:\n",
    "        while threshold != 0:\n",
    "            for k in range(0,K[i]):\n",
    "                uuu = np.mat(miu[k,:])\n",
    "                miu_k = np.tile(uuu,(N,1))\n",
    "                d = np.mat(dist(normalized_train_data, miu_k), float).T\n",
    "                D[:,k] = d\n",
    "            arg = np.argmin(D, axis = 1)\n",
    "            arg = np.tile(arg,(1,K[i]))\n",
    "            for k in range(0,K[i]):\n",
    "                classk = np.mat(np.ones(N)*k).T\n",
    "                R[:,k]  = np.mat((arg[:,k] == classk),float)\n",
    "                      \n",
    "            miu_old = deepcopy(miu)\n",
    "            one = np.mat(np.ones(N)).T\n",
    "            for k in range(0,K[i]):\n",
    "                rnk_tol = R[:,k].T*one          \n",
    "                miu[k] = (R[:,k].T * normalized_train_data) / rnk_tol\n",
    "                if math.isnan(np.sum(miu[k])):\n",
    "                    miu[k] = zero_v\n",
    "            threshold = sum(dist(miu, miu_old))\n",
    "            iteration = iteration + 1\n",
    "\n",
    "        print('When K = %d, miu is :' %K[i])\n",
    "        print(miu)"
   ]
  },
  {
   "cell_type": "code",
   "execution_count": null,
   "metadata": {},
   "outputs": [],
   "source": [
    "def initial_(i):\n",
    "    coef = np.zeros([K[i],1])\n",
    "    for k in range(0,K[i]):\n",
    "        coef[k,0] = np.sum(R[:,k]) / N\n",
    "    \n",
    "\n",
    "    R_T = R.T\n",
    "    R_T = np.array(R_T)\n",
    "    Cov_matrix = np.zeros((K[i], 3, 3))\n",
    "    for k in range(0,K[i]):\n",
    "        ys = normalized_train_data - miu[k, :]\n",
    "        Cov_matrix[k] = (R_T[k,:,None,None] * (ys[:,:,None]@ys[:,None,:])).sum(axis=0)\n",
    "    Cov_matrix /= R_T.sum(axis=1)[:,None,None]\n",
    "    return [coef,Cov_matrix]"
   ]
  },
  {
   "cell_type": "code",
   "execution_count": null,
   "metadata": {},
   "outputs": [],
   "source": [
    "def em_algorithm(i,coef,Cov_matrix,z1):    \n",
    "    ll = []\n",
    "    ll_old = 0\n",
    "    t1 = 0\n",
    "    print('Strat EM.')\n",
    "    for iters in range(100):\n",
    "        ll_new = 0\n",
    "        w = np.zeros((K[i], N))\n",
    "        for j in range(0,K[i]):\n",
    "            w[j,:] = coef[j] * mvn(miu[j,:], Cov_matrix[j,:,:]).pdf(normalized_train_data)\n",
    "        w /= w.sum(0)\n",
    "    \n",
    "        coef = w.sum(1)\n",
    "        coef /= N\n",
    "    \n",
    "        u = np.dot(w, normalized_train_data)\n",
    "        u /= w.sum(1)[:, None]\n",
    "    \n",
    "        Cov_matrix = np.zeros((K[i], 3, 3))\n",
    "        for j in range(0,K[i]):\n",
    "            ys = normalized_train_data - miu[j, :]\n",
    "            Cov_matrix[j] = (w[j,:,None,None] * (ys[:,:,None]@ys[:,None,:])).sum(axis=0)\n",
    "        Cov_matrix /= w.sum(axis=1)[:,None,None]\n",
    "        Cov_matrix += 0.0001                   \n",
    "    \n",
    "\n",
    "        ll_new = 0\n",
    "        for k in range(0,K[i]):\n",
    "            ll_new += coef[k]*mvn(u[k,:], Cov_matrix[k,:,:]).pdf(normalized_train_data)\n",
    "        ll_new = np.log(ll_new).sum()\n",
    "        ll.append(ll_new)    \n",
    "        ll_old = ll_new\n",
    "        t1 = t1 + 1\n",
    "    \n",
    "    print('When K = %d, Loglikelihood curve:' %K[i])\n",
    "    plt.figure(z1)\n",
    "    z1 += 1\n",
    "    l0 = plt.plot(plot_x,ll, 'co-',markerfacecolor='b',markersize=5);\n",
    "    plt.title('When K = %d ,Loglikelihood curve:' %K[i])\n",
    "    plt.xlabel('Numbers of iterations of GMM');\n",
    "    plt.ylabel('Loglikelihood');\n",
    "    plt.show() \n",
    "\n",
    "    Plot_img = np.zeros([N,3])\n",
    "    for k in range(0,K[i]):\n",
    "        for n in range(N):\n",
    "            if R[n,k] == 1:\n",
    "                Plot_img[n,:] = miu[k,:]\n",
    "    Plot_img = np.array(Plot_img*255,int)\n",
    "    Plot_img = Plot_img.reshape((img1.shape))\n",
    "    Plot_img = Plot_img.astype(np.uint8)\n",
    "    plt.figure(z1)\n",
    "    z1 += 1\n",
    "    img = Image.fromarray(Plot_img)            \n",
    "    plt.title('K = %d' %K[i])\n",
    "    imgplot = plt.imshow(img)           \n",
    "    plt.show() "
   ]
  },
  {
   "cell_type": "code",
   "execution_count": null,
   "metadata": {},
   "outputs": [],
   "source": [
    "for i in range(0,len(K)):\n",
    "    [miu,miu_old,D,R,threshold] = set_training(i = i)\n",
    "    K_means(i = i,threshold = threshold)\n",
    "    [coef,Cov_matrix] = initial_(i = i )\n",
    "    em_algorithm(i = i,coef = coef,Cov_matrix = Cov_matrix,z1 =1)"
   ]
  },
  {
   "cell_type": "code",
   "execution_count": null,
   "metadata": {},
   "outputs": [],
   "source": []
  }
 ],
 "metadata": {
  "kernelspec": {
   "display_name": "Python 3",
   "language": "python",
   "name": "python3"
  },
  "language_info": {
   "codemirror_mode": {
    "name": "ipython",
    "version": 3
   },
   "file_extension": ".py",
   "mimetype": "text/x-python",
   "name": "python",
   "nbconvert_exporter": "python",
   "pygments_lexer": "ipython3",
   "version": "3.7.7"
  }
 },
 "nbformat": 4,
 "nbformat_minor": 4
}
