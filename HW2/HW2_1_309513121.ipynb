{
 "cells": [
  {
   "cell_type": "code",
   "execution_count": 37,
   "metadata": {},
   "outputs": [],
   "source": [
    "import numpy as np\n",
    "import matplotlib.pyplot as plt\n",
    "import math\n",
    "import pandas as pd\n",
    "import csv\n",
    "import cv2\n",
    "import random"
   ]
  },
  {
   "cell_type": "code",
   "execution_count": 2,
   "metadata": {},
   "outputs": [],
   "source": [
    "#參數設定\n",
    "M = 3\n",
    "s = 0.6\n",
    "N = np.array([5,10,30,80]) \n",
    "beta = 1\n",
    "S0_inv = (10 ** -6)*np.eye(M)  #3x3"
   ]
  },
  {
   "cell_type": "code",
   "execution_count": 3,
   "metadata": {},
   "outputs": [],
   "source": [
    "#寫入資料\n",
    "x_data = []\n",
    "t_data = []\n",
    "x = []\n",
    "t = []\n",
    "with open('data.csv', newline='') as csvfile:\n",
    "  # 讀取 CSV 檔案內容\n",
    "    rows = csv.reader(csvfile)\n",
    "  # 以迴圈輸出每一列\n",
    "    for row in rows :\n",
    "        x_data.append(row[0])\n",
    "        t_data.append(row[1])\n",
    "        #print(row)\n",
    "for i in range(1,len(x_data)):\n",
    "    x.append(float(x_data[i]))\n",
    "    t.append(float(t_data[i]))\n",
    "x = np.array(x)   #1x100\n",
    "t = np.array(t)\n",
    "#print(x)\n",
    "#print(t)"
   ]
  },
  {
   "cell_type": "code",
   "execution_count": 4,
   "metadata": {},
   "outputs": [],
   "source": [
    "#Sigmoid function:\n",
    "def sigmoid(x):\n",
    "    return 1 / (1 + math.exp(-x))"
   ]
  },
  {
   "cell_type": "code",
   "execution_count": 5,
   "metadata": {},
   "outputs": [
    {
     "name": "stdout",
     "output_type": "stream",
     "text": [
      "N=5 時：\n",
      "m_5 =  [[ 15.3918259 ]\n",
      " [-27.24893207]\n",
      " [ 13.76463907]]\n",
      "s_5 =  [[ 269.04934203 -577.62671302  361.07317844]\n",
      " [-577.62671302 1261.47181151 -803.66739993]\n",
      " [ 361.07317844 -803.66739993  523.15065575]]\n",
      "N=10 時：\n",
      "m_10 =  [[ 15.02307702]\n",
      " [-26.42568831]\n",
      " [ 13.24703201]]\n",
      "s_10 =  [[ 235.2230813  -502.10849412  313.59178161]\n",
      " [-502.10849412 1092.87495029 -697.66364893]\n",
      " [ 313.59178161 -697.66364893  456.50175644]]\n",
      "N=30 時：\n",
      "m_30 =  [[ 16.74748058]\n",
      " [-30.75338286]\n",
      " [ 16.48689475]]\n",
      "s_30 =  [[  332.87194836  -730.56685746   481.87894563]\n",
      " [ -730.56685746  1626.04940581 -1091.7178122 ]\n",
      " [  481.87894563 -1091.7178122    750.32041508]]\n",
      "N=80 時：\n",
      "m_80 =  [[ 18.51346639]\n",
      " [-33.60090081]\n",
      " [ 17.60653214]]\n",
      "s_80 =  [[  94.94549959 -231.3166393   166.54797427]\n",
      " [-231.3166393   576.181801   -423.33205451]\n",
      " [ 166.54797427 -423.33205451  317.13695932]]\n"
     ]
    }
   ],
   "source": [
    "# Construct phi_matrix \n",
    "p_matrix = []\n",
    "mn_store = []\n",
    "sn_store = []\n",
    "mn_temp = []\n",
    "sn_temp = []\n",
    "for i in range(0,len(x)):\n",
    "    p_temp = []\n",
    "    p_temp.append(sigmoid(x[i]/s))\n",
    "    p_temp.append(sigmoid((x[i]-2/3)/s))\n",
    "    p_temp.append(sigmoid((x[i]-4/3)/s))\n",
    "    p_matrix.append(np.array(p_temp).reshape((1,3)))\n",
    "#print(p_matrix)\n",
    "\n",
    "\n",
    "#先做出m1 s1\n",
    "s0 = np.linalg.inv(S0_inv)\n",
    "#print(p_matrix[0].T.shape)\n",
    "s1_inv = S0_inv + beta*np.dot(p_matrix[0].T,p_matrix[0])\n",
    "s1 = np.linalg.inv(s1_inv)\n",
    "#print(s0)\n",
    "m1 = beta*np.dot(s1,p_matrix[0].T)*t[0]\n",
    "mn_temp.append(m1)\n",
    "sn_temp.append(s1)\n",
    "#print(m1)\n",
    "#print(s1)\n",
    "\n",
    "#N = 5\n",
    "for n in range(1,N[0]):\n",
    "    a = np.linalg.inv(sn_temp[n-1])\n",
    "    sn_inv = a + beta*np.dot(p_matrix[n].T,p_matrix[n])\n",
    "    sn = np.linalg.inv(sn_inv)\n",
    "    sn_temp.append(sn)\n",
    "    b = np.dot(a,mn_temp[n-1]) + beta*p_matrix[n].T*t[n]\n",
    "    m_n = np.dot(sn,b)\n",
    "    mn_temp.append(m_n)\n",
    "    \n",
    "mn_store.append(m_n)\n",
    "sn_store.append(sn)\n",
    "print('N=5 時：')\n",
    "print('m_5 = ',m_n)\n",
    "print('s_5 = ',sn)\n",
    "#print(mn_store)\n",
    "#N = 10\n",
    "for n in range(1,N[1]):\n",
    "    a = np.linalg.inv(sn_temp[n-1])\n",
    "    sn_inv = a + beta*np.dot(p_matrix[n].T,p_matrix[n])\n",
    "    sn = np.linalg.inv(sn_inv)\n",
    "    sn_temp.append(sn)\n",
    "    b = np.dot(a,mn_temp[n-1]) + beta*p_matrix[n].T*t[n]\n",
    "    m_n = np.dot(sn,b)\n",
    "    mn_temp.append(m_n)\n",
    "    \n",
    "mn_store.append(m_n)\n",
    "sn_store.append(sn)\n",
    "print('N=10 時：')\n",
    "print('m_10 = ',m_n)\n",
    "print('s_10 = ',sn)\n",
    "\n",
    "#N = 30\n",
    "for n in range(1,N[2]):\n",
    "    a = np.linalg.inv(sn_temp[n-1])\n",
    "    sn_inv = a + beta*np.dot(p_matrix[n].T,p_matrix[n])\n",
    "    sn = np.linalg.inv(sn_inv)\n",
    "    sn_temp.append(sn)\n",
    "    b = np.dot(a,mn_temp[n-1]) + beta*p_matrix[n].T*t[n]\n",
    "    m_n = np.dot(sn,b)\n",
    "    mn_temp.append(m_n)\n",
    "    \n",
    "mn_store.append(m_n)\n",
    "sn_store.append(sn)\n",
    "print('N=30 時：')\n",
    "print('m_30 = ',m_n)\n",
    "print('s_30 = ',sn)\n",
    "\n",
    "\n",
    "#N = 80\n",
    "for n in range(1,N[3]):\n",
    "    a = np.linalg.inv(sn_temp[n-1])\n",
    "    sn_inv = a + beta*np.dot(p_matrix[n].T,p_matrix[n])\n",
    "    sn = np.linalg.inv(sn_inv)\n",
    "    sn_temp.append(sn)\n",
    "    b = np.dot(a,mn_temp[n-1]) + beta*p_matrix[n].T*t[n]\n",
    "    m_n = np.dot(sn,b)\n",
    "    mn_temp.append(m_n)\n",
    "    \n",
    "mn_store.append(m_n)\n",
    "sn_store.append(sn)\n",
    "print('N=80 時：')\n",
    "print('m_80 = ',m_n)\n",
    "print('s_80 = ',sn)"
   ]
  },
  {
   "cell_type": "code",
   "execution_count": 6,
   "metadata": {},
   "outputs": [],
   "source": [
    "a5 = np.random.multivariate_normal(mn_store[0].flatten(),sn_store[0],5)\n",
    "a10 = np.random.multivariate_normal(mn_store[1].flatten(),sn_store[1],5)\n",
    "a30 = np.random.multivariate_normal(mn_store[2].flatten(),sn_store[2],5)\n",
    "a80 = np.random.multivariate_normal(mn_store[3].flatten(),sn_store[3],5)\n",
    "\n",
    "\n",
    "red = np.linspace(0, 2, 100)\n",
    "\n",
    "#把red丟進p matrix\n",
    "r_matrix = []\n",
    "for i in red:\n",
    "    r_temp = []\n",
    "    r_temp.append(sigmoid(i/s))\n",
    "    r_temp.append(sigmoid((i-2/3)/s))\n",
    "    r_temp.append(sigmoid((i-4/3)/s))\n",
    "    r_matrix.append(np.array(r_temp).reshape((1,3)))\n",
    "#print(r_matrix[0])\n",
    "y1 = []\n",
    "y2 = []\n",
    "y3 = []\n",
    "y4 = []\n",
    "y5 = []\n",
    "for i in r_matrix:\n",
    "    temp_line = np.dot(i,a5.T)\n",
    "    for j in temp_line:\n",
    "        y1.append(j[0])\n",
    "        y2.append(j[1])\n",
    "        y3.append(j[2])\n",
    "        y4.append(j[3])\n",
    "        y5.append(j[4])\n",
    "for i in r_matrix:\n",
    "    temp_line = np.dot(i,a10.T)\n",
    "    for j in temp_line:\n",
    "        y1.append(j[0])\n",
    "        y2.append(j[1])\n",
    "        y3.append(j[2])\n",
    "        y4.append(j[3])\n",
    "        y5.append(j[4])   \n",
    "for i in r_matrix:\n",
    "    temp_line = np.dot(i,a30.T)\n",
    "    for j in temp_line:\n",
    "        y1.append(j[0])\n",
    "        y2.append(j[1])\n",
    "        y3.append(j[2])\n",
    "        y4.append(j[3])\n",
    "        y5.append(j[4])  \n",
    "for i in r_matrix:\n",
    "    temp_line = np.dot(i,a80.T)\n",
    "    for j in temp_line:\n",
    "        y1.append(j[0])\n",
    "        y2.append(j[1])\n",
    "        y3.append(j[2])\n",
    "        y4.append(j[3])\n",
    "        y5.append(j[4])  "
   ]
  },
  {
   "cell_type": "code",
   "execution_count": 7,
   "metadata": {},
   "outputs": [
    {
     "data": {
      "text/plain": [
       "[<matplotlib.lines.Line2D at 0x11d385950>]"
      ]
     },
     "execution_count": 7,
     "metadata": {},
     "output_type": "execute_result"
    },
    {
     "data": {
      "image/png": "[encoded data removed]",
      "text/plain": [
       "<Figure size 432x288 with 1 Axes>"
      ]
     },
     "metadata": {
      "needs_background": "light"
     },
     "output_type": "display_data"
    }
   ],
   "source": [
    "#1-1\n",
    "#N = 5\n",
    "plt.scatter(x[0:5],t[0:5])\n",
    "plt.title('N = 5')\n",
    "plt.plot(red,y1[0:100],'red')\n",
    "plt.plot(red,y2[0:100],'red')\n",
    "plt.plot(red,y3[0:100],'red')\n",
    "plt.plot(red,y4[0:100],'red')\n",
    "plt.plot(red,y5[0:100],'red')"
   ]
  },
  {
   "cell_type": "code",
   "execution_count": 8,
   "metadata": {},
   "outputs": [
    {
     "data": {
      "text/plain": [
       "[<matplotlib.lines.Line2D at 0x11d4db2d0>]"
      ]
     },
     "execution_count": 8,
     "metadata": {},
     "output_type": "execute_result"
    },
    {
     "data": {
      "image/png": "[encoded data removed]",
      "text/plain": [
       "<Figure size 432x288 with 1 Axes>"
      ]
     },
     "metadata": {
      "needs_background": "light"
     },
     "output_type": "display_data"
    }
   ],
   "source": [
    "#N = 10\n",
    "plt.scatter(x[0:10],t[0:10])\n",
    "plt.title('N = 10')\n",
    "plt.plot(red,y1[100:200],'red')\n",
    "plt.plot(red,y2[100:200],'red')\n",
    "plt.plot(red,y3[100:200],'red')\n",
    "plt.plot(red,y4[100:200],'red')\n",
    "plt.plot(red,y5[100:200],'red')"
   ]
  },
  {
   "cell_type": "code",
   "execution_count": 9,
   "metadata": {},
   "outputs": [
    {
     "data": {
      "text/plain": [
       "[<matplotlib.lines.Line2D at 0x11d5b6a50>]"
      ]
     },
     "execution_count": 9,
     "metadata": {},
     "output_type": "execute_result"
    },
    {
     "data": {
      "image/png": "[encoded data removed]",
      "text/plain": [
       "<Figure size 432x288 with 1 Axes>"
      ]
     },
     "metadata": {
      "needs_background": "light"
     },
     "output_type": "display_data"
    }
   ],
   "source": [
    "#N = 30\n",
    "plt.scatter(x[0:30],t[0:30])\n",
    "plt.title('N = 30')\n",
    "plt.plot(red,y1[200:300],'red')\n",
    "plt.plot(red,y2[200:300],'red')\n",
    "plt.plot(red,y3[200:300],'red')\n",
    "plt.plot(red,y4[200:300],'red')\n",
    "plt.plot(red,y5[200:300],'red')"
   ]
  },
  {
   "cell_type": "code",
   "execution_count": 10,
   "metadata": {},
   "outputs": [
    {
     "data": {
      "text/plain": [
       "[<matplotlib.lines.Line2D at 0x11d69a510>]"
      ]
     },
     "execution_count": 10,
     "metadata": {},
     "output_type": "execute_result"
    },
    {
     "data": {
      "image/png": "[encoded data removed]",
      "text/plain": [
       "<Figure size 432x288 with 1 Axes>"
      ]
     },
     "metadata": {
      "needs_background": "light"
     },
     "output_type": "display_data"
    }
   ],
   "source": [
    "#N = 80\n",
    "plt.scatter(x[0:80],t[0:80])\n",
    "plt.title('N = 80')\n",
    "plt.plot(red,y1[300:400],'red')\n",
    "plt.plot(red,y2[300:400],'red')\n",
    "plt.plot(red,y3[300:400],'red')\n",
    "plt.plot(red,y4[300:400],'red')\n",
    "plt.plot(red,y5[300:400],'red')"
   ]
  },
  {
   "cell_type": "code",
   "execution_count": 11,
   "metadata": {},
   "outputs": [
    {
     "data": {
      "text/plain": [
       "<matplotlib.collections.PolyCollection at 0x11d79b810>"
      ]
     },
     "execution_count": 11,
     "metadata": {},
     "output_type": "execute_result"
    },
    {
     "data": {
      "image/png": "[encoded data removed]",
      "text/plain": [
       "<Figure size 432x288 with 1 Axes>"
      ]
     },
     "metadata": {
      "needs_background": "light"
     },
     "output_type": "display_data"
    }
   ],
   "source": [
    "#1-2\n",
    "#算var\n",
    "#N = 5\n",
    "var_temp = []\n",
    "tt = np.dot(r_matrix[0],s0)\n",
    "v0 = 1+np.dot(tt,r_matrix[0].T)\n",
    "var_temp.append(v0)\n",
    "#print(v0)\n",
    "for i in range(1,N[3]):\n",
    "    tt = np.dot(r_matrix[i],sn_temp[i-1])\n",
    "    v = 1 + np.dot(tt,r_matrix[i].T)\n",
    "    var_temp.append(v)\n",
    "#print(var_temp[79])\n",
    "yn5 = np.dot(np.array(r_matrix),np.array(mn_store[0]))\n",
    "yn10 = np.dot(np.array(r_matrix),np.array(mn_store[1]))\n",
    "yn30 = np.dot(np.array(r_matrix),np.array(mn_store[2]))\n",
    "yn80 = np.dot(np.array(r_matrix),np.array(mn_store[3]))\n",
    "\n",
    "\n",
    "lowbound5 = yn5 - math.sqrt(var_temp[N[0]-1])\n",
    "upbound5 = yn5 + math.sqrt(var_temp[N[0]-1])\n",
    "\n",
    "\n",
    "plt.scatter(x[0:N[0]],t[0:N[0]])\n",
    "plt.title('N = 5')\n",
    "plt.plot(red,yn5.flatten(),'red')\n",
    "plt.fill_between(red, lowbound5.flatten(), upbound5.flatten(), facecolor='pink', alpha=0.3)"
   ]
  },
  {
   "cell_type": "code",
   "execution_count": 12,
   "metadata": {},
   "outputs": [
    {
     "data": {
      "text/plain": [
       "<matplotlib.collections.PolyCollection at 0x11d88a190>"
      ]
     },
     "execution_count": 12,
     "metadata": {},
     "output_type": "execute_result"
    },
    {
     "data": {
      "image/png": "[encoded data removed]",
      "text/plain": [
       "<Figure size 432x288 with 1 Axes>"
      ]
     },
     "metadata": {
      "needs_background": "light"
     },
     "output_type": "display_data"
    }
   ],
   "source": [
    "#N = 10 \n",
    "lowbound10 = yn10 - math.sqrt(var_temp[N[1]-1])\n",
    "upbound10 = yn10 + math.sqrt(var_temp[N[1]-1])\n",
    "\n",
    "\n",
    "plt.scatter(x[0:N[1]],t[0:N[1]])\n",
    "plt.title('N = 10')\n",
    "plt.plot(red,yn10.flatten(),'red')\n",
    "plt.fill_between(red, lowbound10.flatten(), upbound10.flatten(), facecolor='pink', alpha=0.3)"
   ]
  },
  {
   "cell_type": "code",
   "execution_count": 13,
   "metadata": {},
   "outputs": [
    {
     "data": {
      "text/plain": [
       "<matplotlib.collections.PolyCollection at 0x11d9691d0>"
      ]
     },
     "execution_count": 13,
     "metadata": {},
     "output_type": "execute_result"
    },
    {
     "data": {
      "image/png": "[encoded data removed]",
      "text/plain": [
       "<Figure size 432x288 with 1 Axes>"
      ]
     },
     "metadata": {
      "needs_background": "light"
     },
     "output_type": "display_data"
    }
   ],
   "source": [
    "#N = 30 \n",
    "lowbound30 = yn30 - math.sqrt(var_temp[N[2]-1])\n",
    "upbound30 = yn30 + math.sqrt(var_temp[N[2]-1])\n",
    "\n",
    "\n",
    "plt.scatter(x[0:N[2]],t[0:N[2]])\n",
    "plt.title('N = 30')\n",
    "plt.plot(red,yn30.flatten(),'red')\n",
    "plt.fill_between(red, lowbound30.flatten(), upbound30.flatten(), facecolor='pink', alpha=0.3)"
   ]
  },
  {
   "cell_type": "code",
   "execution_count": 14,
   "metadata": {},
   "outputs": [
    {
     "data": {
      "text/plain": [
       "<matplotlib.collections.PolyCollection at 0x11da512d0>"
      ]
     },
     "execution_count": 14,
     "metadata": {},
     "output_type": "execute_result"
    },
    {
     "data": {
      "image/png": "[encoded data removed]",
      "text/plain": [
       "<Figure size 432x288 with 1 Axes>"
      ]
     },
     "metadata": {
      "needs_background": "light"
     },
     "output_type": "display_data"
    }
   ],
   "source": [
    "#N = 80 \n",
    "lowbound80 = yn80 - math.sqrt(var_temp[N[3]-1])\n",
    "upbound80 = yn80 + math.sqrt(var_temp[N[3]-1])\n",
    "\n",
    "\n",
    "plt.scatter(x[0:N[3]],t[0:N[3]])\n",
    "plt.title('N = 80')\n",
    "plt.plot(red,yn80.flatten(),'red')\n",
    "plt.fill_between(red, lowbound80.flatten(), upbound80.flatten(), facecolor='pink', alpha=0.3)"
   ]
  },
  {
   "cell_type": "code",
   "execution_count": 15,
   "metadata": {},
   "outputs": [
    {
     "data": {
      "image/png": "[encoded data removed]",
      "text/plain": [
       "<Figure size 432x288 with 1 Axes>"
      ]
     },
     "metadata": {
      "needs_background": "light"
     },
     "output_type": "display_data"
    }
   ],
   "source": [
    "#1-3\n",
    "#N = 5\n",
    "w5 = np.random.multivariate_normal(mn_store[0].flatten(),sn_store[0],500000)\n",
    "w5 = np.array(w5)\n",
    "x = w5[:,0] #w0\n",
    "y = w5[:,1] #w1\n",
    "plt.xlabel(\"w0\")\n",
    "plt.ylabel(\"w1\")\n",
    "plt.title('N = 5')\n",
    "plt.hist2d(x,y,bins=[100,100],range=np.array([(-40,80),(-150,100)]),cmap=plt.cm.jet)\n",
    "plt.show()"
   ]
  },
  {
   "cell_type": "code",
   "execution_count": 16,
   "metadata": {},
   "outputs": [
    {
     "data": {
      "image/png": "[encoded data removed]",
      "text/plain": [
       "<Figure size 432x288 with 1 Axes>"
      ]
     },
     "metadata": {
      "needs_background": "light"
     },
     "output_type": "display_data"
    }
   ],
   "source": [
    "#N = 10\n",
    "w10 = np.random.multivariate_normal(mn_store[1].flatten(),sn_store[1],500000)\n",
    "w10 = np.array(w10)\n",
    "x = w10[:,0] #w0\n",
    "y = w10[:,1] #w1\n",
    "plt.xlabel(\"w0\")\n",
    "plt.ylabel(\"w1\")\n",
    "plt.title('N = 10')\n",
    "plt.hist2d(x,y,bins=[100,100],range=np.array([(-40,80),(-150,100)]),cmap=plt.cm.jet)\n",
    "plt.show()"
   ]
  },
  {
   "cell_type": "code",
   "execution_count": 17,
   "metadata": {},
   "outputs": [
    {
     "data": {
      "image/png": "[encoded data removed]",
      "text/plain": [
       "<Figure size 432x288 with 1 Axes>"
      ]
     },
     "metadata": {
      "needs_background": "light"
     },
     "output_type": "display_data"
    }
   ],
   "source": [
    "#N = 30\n",
    "w30 = np.random.multivariate_normal(mn_store[2].flatten(),sn_store[2],500000)\n",
    "w30 = np.array(w30)\n",
    "x = w30[:,0] #w0\n",
    "y = w30[:,1] #w1\n",
    "plt.xlabel(\"w0\")\n",
    "plt.ylabel(\"w1\")\n",
    "plt.title('N = 30')\n",
    "plt.hist2d(x,y,bins=[100,100],range=np.array([(-40,80),(-150,100)]),cmap=plt.cm.jet)\n",
    "plt.show()"
   ]
  },
  {
   "cell_type": "code",
   "execution_count": 18,
   "metadata": {},
   "outputs": [
    {
     "data": {
      "image/png": "[encoded data removed]",
      "text/plain": [
       "<Figure size 432x288 with 1 Axes>"
      ]
     },
     "metadata": {
      "needs_background": "light"
     },
     "output_type": "display_data"
    }
   ],
   "source": [
    "#N = 80\n",
    "w80 = np.random.multivariate_normal(mn_store[3].flatten(),sn_store[3],500000)\n",
    "w80 = np.array(w80)\n",
    "x = w80[:,0] #w0\n",
    "y = w80[:,1] #w1\n",
    "plt.xlabel(\"w0\")\n",
    "plt.ylabel(\"w1\")\n",
    "plt.title('N = 80')\n",
    "plt.hist2d(x,y,bins=[100,100],range=np.array([(-40,80),(-150,100)]),cmap=plt.cm.jet)\n",
    "plt.show()"
   ]
  },
  {
   "cell_type": "code",
   "execution_count": 19,
   "metadata": {},
   "outputs": [],
   "source": [
    "#1-4 討論！"
   ]
  },
  {
   "cell_type": "code",
   "execution_count": 36,
   "metadata": {},
   "outputs": [],
   "source": [
    "#2\n",
    "# load\n",
    "img0 = []\n",
    "img1 = []\n",
    "img2 = []\n",
    "img3 = []\n",
    "img4 = []\n",
    "\n",
    "for i in range(0,64):\n",
    "    img = cv2.imread('./Fashion_MNIST/0/{file}.png'.format(file = i), cv2.IMREAD_GRAYSCALE) \n",
    "    img0.append(img)\n",
    "for i in range(0,64):\n",
    "    img = cv2.imread('./Fashion_MNIST/1/{file}.png'.format(file = i), cv2.IMREAD_GRAYSCALE) \n",
    "    img1.append(img)\n",
    "for i in range(0,64):\n",
    "    img = cv2.imread('./Fashion_MNIST/2/{file}.png'.format(file = i), cv2.IMREAD_GRAYSCALE) \n",
    "    img2.append(img)\n",
    "for i in range(0,64):\n",
    "    img = cv2.imread('./Fashion_MNIST/3/{file}.png'.format(file = i), cv2.IMREAD_GRAYSCALE) \n",
    "    img3.append(img)\n",
    "for i in range(0,64):\n",
    "    img = cv2.imread('./Fashion_MNIST/4/{file}.png'.format(file = i), cv2.IMREAD_GRAYSCALE) \n",
    "    img4.append(img)\n",
    "#print((img4))"
   ]
  },
  {
   "cell_type": "code",
   "execution_count": 405,
   "metadata": {},
   "outputs": [],
   "source": [
    "#參數設定\n",
    "lr = 0.0003"
   ]
  },
  {
   "cell_type": "code",
   "execution_count": 418,
   "metadata": {},
   "outputs": [],
   "source": [
    "#split training data to testing data\n",
    "img0_test = []\n",
    "img1_test = []\n",
    "img2_test = []\n",
    "img3_test = []\n",
    "img4_test = []\n",
    "\n",
    "img0_train = []\n",
    "img1_train = []\n",
    "img2_train = []\n",
    "img3_train = []\n",
    "img4_train = []\n",
    "\n",
    "random.shuffle(img0)\n",
    "random.shuffle(img1)\n",
    "random.shuffle(img2)\n",
    "random.shuffle(img3)\n",
    "random.shuffle(img4)\n",
    "for i in range(0,len(img0)-32):\n",
    "    img0_test.append(img0[i])\n",
    "for j in range(32,64):\n",
    "    img0_train.append(img0[j])\n",
    "#print((img0_test))\n",
    "\n",
    "for i in range(0,len(img1)-32):\n",
    "    img1_test.append(img1[i])\n",
    "for j in range(32,64):\n",
    "    img1_train.append(img1[j])\n",
    "    \n",
    "for i in range(0,len(img2)-32):\n",
    "    img2_test.append(img2[i])\n",
    "for j in range(32,64):\n",
    "    img2_train.append(img2[j])\n",
    "    \n",
    "for i in range(0,len(img3)-32):\n",
    "    img3_test.append(img3[i])\n",
    "for j in range(32,64):\n",
    "    img3_train.append(img3[j])\n",
    "    \n",
    "for i in range(0,len(img4)-32):\n",
    "    img4_test.append(img4[i])\n",
    "for j in range(32,64):\n",
    "    img4_train.append(img4[j])"
   ]
  },
  {
   "cell_type": "code",
   "execution_count": 419,
   "metadata": {},
   "outputs": [],
   "source": [
    "#multi-class-classification model"
   ]
  },
  {
   "cell_type": "code",
   "execution_count": 420,
   "metadata": {},
   "outputs": [],
   "source": [
    "#softmax model\n",
    "def softmax(z,exp_sum_of_z):\n",
    "    for i in z:\n",
    "        temp_z = []\n",
    "        temp_z.append(math.exp(i)/exp_sum_of_z) \n",
    "    temp_z = np.array(temp_z)\n",
    "    return temp_z"
   ]
  },
  {
   "cell_type": "code",
   "execution_count": 421,
   "metadata": {},
   "outputs": [],
   "source": [
    "#cross-entropy\n",
    "cross_entropy_store = [] #五個全存裡面\n",
    "#cross_entropy_sum = cross_entropy_store[-5]+cross_entropy_store[-4]+cross_entropy_store[-3]+cross_entropy_store[-2]+cross_entropy_store[-1]\n",
    "def cross_entropy(y_head, target):\n",
    "    #print(y_head)\n",
    "    if y_head != 0:\n",
    "        loss = -(math.log(y_head))*target\n",
    "        cross_entropy_store.append(loss)\n",
    "    else:\n",
    "        cross_entropy_store.append(1)"
   ]
  },
  {
   "cell_type": "code",
   "execution_count": 422,
   "metadata": {},
   "outputs": [],
   "source": [
    "#update weight\n",
    "w0 = []\n",
    "w1 = []\n",
    "w2 = []\n",
    "w3 = []\n",
    "w4 = []\n",
    "def update_weight(weight,target,y_head,x,class_num):\n",
    "    w_update = weight + lr *(target - y_head)*x\n",
    "    if class_num == 0:\n",
    "        w0.append(w_update)\n",
    "    elif class_num == 1:\n",
    "        w1.append(w_update)\n",
    "    elif class_num == 2:\n",
    "        w2.append(w_update)\n",
    "    elif class_num == 3:\n",
    "        w3.append(w_update)\n",
    "    elif class_num == 4:\n",
    "        w4.append(w_update)"
   ]
  },
  {
   "cell_type": "code",
   "execution_count": 423,
   "metadata": {},
   "outputs": [],
   "source": [
    "#生成z\n",
    "z0 = []\n",
    "z1 = []\n",
    "z2 = []\n",
    "z3 = []\n",
    "z4 = []\n",
    "def generate_z(weight,x,class_num):\n",
    "    z = np.dot(weight,x)\n",
    "    #print(z)\n",
    "    if class_num == 0:\n",
    "        z0.append(z)\n",
    "    elif class_num == 1:\n",
    "        z1.append(z)\n",
    "    elif class_num == 2:\n",
    "        z2.append(z)\n",
    "    elif class_num == 3:\n",
    "        z3.append(z)\n",
    "    elif class_num == 4:\n",
    "        z4.append(z)"
   ]
  },
  {
   "cell_type": "code",
   "execution_count": 424,
   "metadata": {},
   "outputs": [],
   "source": [
    "def intital_weight():\n",
    "    w=np.zeros((1,784))\n",
    "    w0.append(w)\n",
    "    w1.append(w)\n",
    "    w2.append(w)\n",
    "    w3.append(w)\n",
    "    w4.append(w)"
   ]
  },
  {
   "cell_type": "code",
   "execution_count": 425,
   "metadata": {},
   "outputs": [],
   "source": [
    "#Multi-class-classification\n",
    "#1.先做z1 = w*x1 五個class都做\n",
    "epoch = 100\n",
    "t = 1\n",
    "y_head_store = [] #五個全存裡面"
   ]
  },
  {
   "cell_type": "code",
   "execution_count": 426,
   "metadata": {},
   "outputs": [],
   "source": [
    "#model\n",
    "def model(batch_size):\n",
    "    x0 = img0_train\n",
    "    x1 = img1_train\n",
    "    x2 = img2_train\n",
    "    x3 = img3_train\n",
    "    x4 = img4_train\n",
    "\n",
    "    for i in range(0,batch_size):\n",
    "        #print(w0[-1])\n",
    "        generate_z(w0[-1],x0[i].flatten()/255,0)\n",
    "        generate_z(w1[-1],x1[i].flatten()/255,1)\n",
    "        generate_z(w2[-1],x2[i].flatten()/255,2)\n",
    "        generate_z(w3[-1],x3[i].flatten()/255,3)\n",
    "        generate_z(w4[-1],x4[i].flatten()/255,4)\n",
    "    #print((z4[-1]))    \n",
    "    exp_sum_z = math.exp(z0[-1]/784) + math.exp(z1[-1]/784) + math.exp(z2[-1]/784) + math.exp(z3[-1]/784)+ math.exp(z4[-1]/784)\n",
    "\n",
    "    for j in range(0,batch_size):\n",
    "        y_head_temp = []\n",
    "        y_head_temp.append(math.exp(z0[-1]/784)/exp_sum_z)\n",
    "        y_head_temp.append(math.exp(z1[-1]/784)/exp_sum_z)\n",
    "        y_head_temp.append(math.exp(z2[-1]/784)/exp_sum_z)\n",
    "        y_head_temp.append(math.exp(z3[-1]/784)/exp_sum_z)\n",
    "        y_head_temp.append(math.exp(z4[-1]/784)/exp_sum_z)\n",
    "        y_head_store.append(y_head_temp)\n",
    "        #print(y_head_store[-1])\n",
    "        update_weight(w0[-1],t,y_head_store[-1][0],x0[j].flatten(),0)\n",
    "        update_weight(w1[-1],t,y_head_store[-1][1],x1[j].flatten(),1)\n",
    "        update_weight(w2[-1],t,y_head_store[-1][2],x2[j].flatten(),2)\n",
    "        update_weight(w3[-1],t,y_head_store[-1][3],x3[j].flatten(),3)\n",
    "        update_weight(w4[-1],t,y_head_store[-1][4],x4[j].flatten(),4)\n",
    "    #print(y_head_store[-1])\n",
    "    for n in range(0,5):\n",
    "        for m in range(len(y_head_store)-batch_size,len(y_head_store)):\n",
    "            cross_entropy(y_head_store[m][n],t)\n",
    "            \n",
    "    print('loss: ',cross_entropy_store[-129]+cross_entropy_store[-97]+cross_entropy_store[-65]+cross_entropy_store[-33]+cross_entropy_store[-1])"
   ]
  },
  {
   "cell_type": "code",
   "execution_count": 428,
   "metadata": {},
   "outputs": [
    {
     "name": "stdout",
     "output_type": "stream",
     "text": [
      "Epoch 0\n",
      "loss:  8.047189562170502\n",
      "Epoch 1\n",
      "loss:  8.066684165871699\n",
      "Epoch 2\n",
      "loss:  8.11877009240776\n",
      "Epoch 3\n",
      "loss:  8.194467158248557\n",
      "Epoch 4\n",
      "loss:  8.286061869788341\n",
      "Epoch 5\n",
      "loss:  8.387394277126491\n",
      "Epoch 6\n",
      "loss:  8.493860195899622\n",
      "Epoch 7\n",
      "loss:  8.602226185193333\n",
      "Epoch 8\n",
      "loss:  8.710360922782183\n",
      "Epoch 9\n",
      "loss:  8.816958936377805\n",
      "Epoch 10\n",
      "loss:  8.92129855972402\n",
      "Epoch 11\n",
      "loss:  9.02304962494332\n",
      "Epoch 12\n",
      "loss:  9.122130737188158\n",
      "Epoch 13\n",
      "loss:  9.218608770251054\n",
      "Epoch 14\n",
      "loss:  9.312631201562628\n",
      "Epoch 15\n",
      "loss:  9.404382484028165\n",
      "Epoch 16\n",
      "loss:  9.4940572269346\n",
      "Epoch 17\n",
      "loss:  9.581844691318183\n",
      "Epoch 18\n",
      "loss:  9.667920633247993\n",
      "Epoch 19\n",
      "loss:  9.7524437407512\n",
      "Epoch 20\n",
      "loss:  9.835554813016861\n",
      "Epoch 21\n",
      "loss:  9.917377474542796\n",
      "Epoch 22\n",
      "loss:  9.998019661337052\n",
      "Epoch 23\n",
      "loss:  10.077575414565143\n",
      "Epoch 24\n",
      "loss:  10.15612671207499\n",
      "Epoch 25\n",
      "loss:  10.233745192388945\n",
      "Epoch 26\n",
      "loss:  10.310493702407987\n",
      "Epoch 27\n",
      "loss:  10.38642764561158\n",
      "Epoch 28\n",
      "loss:  10.461596133159842\n",
      "Epoch 29\n",
      "loss:  10.536042953510004\n",
      "Epoch 30\n",
      "loss:  10.609807381862721\n",
      "Epoch 31\n",
      "loss:  10.682924852115892\n",
      "Epoch 32\n",
      "loss:  10.755427513007856\n",
      "Epoch 33\n",
      "loss:  10.82734468799264\n",
      "Epoch 34\n",
      "loss:  10.898703255823632\n",
      "Epoch 35\n",
      "loss:  10.969527966232066\n",
      "Epoch 36\n",
      "loss:  11.03984170268212\n",
      "Epoch 37\n",
      "loss:  11.109665702058576\n",
      "Epoch 38\n",
      "loss:  11.179019739322413\n",
      "Epoch 39\n",
      "loss:  11.247922283643186\n",
      "Epoch 40\n",
      "loss:  11.31639063125866\n",
      "Epoch 41\n",
      "loss:  11.384441019284607\n",
      "Epoch 42\n",
      "loss:  11.45208872386724\n",
      "Epoch 43\n",
      "loss:  11.519348145402926\n",
      "Epoch 44\n",
      "loss:  11.586232883015876\n",
      "Epoch 45\n",
      "loss:  11.65275580005805\n",
      "Epoch 46\n",
      "loss:  11.718929082056643\n",
      "Epoch 47\n",
      "loss:  11.78476428826482\n",
      "Epoch 48\n",
      "loss:  11.850272397756733\n",
      "Epoch 49\n",
      "loss:  11.915463850837574\n",
      "Epoch 50\n",
      "loss:  11.980348586403004\n",
      "Epoch 51\n",
      "loss:  12.044936075774132\n",
      "Epoch 52\n",
      "loss:  12.109235353446666\n",
      "Epoch 53\n",
      "loss:  12.173255045123165\n",
      "Epoch 54\n",
      "loss:  12.23700339334038\n",
      "Epoch 55\n",
      "loss:  12.30048828095788\n",
      "Epoch 56\n",
      "loss:  12.363717252736162\n",
      "Epoch 57\n",
      "loss:  12.426697535201724\n",
      "Epoch 58\n",
      "loss:  12.489436054970712\n",
      "Epoch 59\n",
      "loss:  12.551939455681294\n",
      "Epoch 60\n",
      "loss:  12.61421411366672\n",
      "Epoch 61\n",
      "loss:  12.67626615248603\n",
      "Epoch 62\n",
      "loss:  12.738101456415762\n",
      "Epoch 63\n",
      "loss:  12.799725682995241\n",
      "Epoch 64\n",
      "loss:  12.861144274707863\n",
      "Epoch 65\n",
      "loss:  12.922362469872544\n",
      "Epoch 66\n",
      "loss:  12.98338531281198\n",
      "Epoch 67\n",
      "loss:  13.044217663357632\n",
      "Epoch 68\n",
      "loss:  13.104864205745804\n",
      "Epoch 69\n",
      "loss:  13.165329456953726\n",
      "Epoch 70\n",
      "loss:  13.225617774520295\n",
      "Epoch 71\n",
      "loss:  13.285733363891513\n",
      "Epoch 72\n",
      "loss:  13.345680285327466\n",
      "Epoch 73\n",
      "loss:  13.405462460404205\n",
      "Epoch 74\n",
      "loss:  13.465083678140532\n",
      "Epoch 75\n",
      "loss:  13.52454760077774\n",
      "Epoch 76\n",
      "loss:  13.583857769237177\n",
      "Epoch 77\n",
      "loss:  13.64301760827881\n",
      "Epoch 78\n",
      "loss:  13.70203043138184\n",
      "Epoch 79\n",
      "loss:  13.760899445366395\n",
      "Epoch 80\n",
      "loss:  13.819627754774245\n",
      "Epoch 81\n",
      "loss:  13.878218366024326\n",
      "Epoch 82\n",
      "loss:  13.93667419135806\n",
      "Epoch 83\n",
      "loss:  13.994998052588151\n",
      "Epoch 84\n",
      "loss:  14.053192684663054\n",
      "Epoch 85\n",
      "loss:  14.111260739058945\n",
      "Epoch 86\n",
      "loss:  14.169204787009546\n",
      "Epoch 87\n",
      "loss:  14.227027322583723\n",
      "Epoch 88\n",
      "loss:  14.284730765619825\n",
      "Epoch 89\n",
      "loss:  14.342317464524996\n",
      "Epoch 90\n",
      "loss:  14.399789698947528\n",
      "Epoch 91\n",
      "loss:  14.45714968232889\n",
      "Epoch 92\n",
      "loss:  14.51439956434262\n",
      "Epoch 93\n",
      "loss:  14.571541433225843\n",
      "Epoch 94\n",
      "loss:  14.628577318009413\n",
      "Epoch 95\n",
      "loss:  14.685509190651954\n",
      "Epoch 96\n",
      "loss:  14.742338968082615\n",
      "Epoch 97\n",
      "loss:  14.799068514157621\n",
      "Epoch 98\n",
      "loss:  14.855699641534624\n",
      "Epoch 99\n",
      "loss:  14.91223411346879\n"
     ]
    }
   ],
   "source": [
    "#執行幾epoch\n",
    "#batch_size max = 31\n",
    "#print(w0[-1])\n",
    "intital_weight()\n",
    "for e in range(0,epoch):\n",
    "    print('Epoch {num}'.format(num = e))\n",
    "    model(31)"
   ]
  },
  {
   "cell_type": "code",
   "execution_count": null,
   "metadata": {},
   "outputs": [],
   "source": []
  },
  {
   "cell_type": "code",
   "execution_count": null,
   "metadata": {},
   "outputs": [],
   "source": []
  },
  {
   "cell_type": "code",
   "execution_count": null,
   "metadata": {},
   "outputs": [],
   "source": []
  },
  {
   "cell_type": "code",
   "execution_count": null,
   "metadata": {},
   "outputs": [],
   "source": []
  }
 ],
 "metadata": {
  "kernelspec": {
   "display_name": "Python 3",
   "language": "python",
   "name": "python3"
  },
  "language_info": {
   "codemirror_mode": {
    "name": "ipython",
    "version": 3
   },
   "file_extension": ".py",
   "mimetype": "text/x-python",
   "name": "python",
   "nbconvert_exporter": "python",
   "pygments_lexer": "ipython3",
   "version": "3.7.7"
  }
 },
 "nbformat": 4,
 "nbformat_minor": 4
}
